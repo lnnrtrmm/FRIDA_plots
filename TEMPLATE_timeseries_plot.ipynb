{
 "cells": [
  {
   "cell_type": "code",
   "execution_count": 1,
   "metadata": {},
   "outputs": [],
   "source": [
    "import numpy as np\n",
    "import pandas as pd\n",
    "import matplotlib.pyplot as plt"
   ]
  },
  {
   "cell_type": "code",
   "execution_count": null,
   "metadata": {},
   "outputs": [],
   "source": [
    "time_FRIDA = np.linspace(1980,2130,151)\n",
    "\n",
    "\n",
    "filename = 'output_from_FRIDA.csv'\n",
    "df = pd.read_csv(filename, delimiter=';')\n",
    "\n",
    "data = df.values[:,1].astype(float)\n"
   ]
  },
  {
   "cell_type": "code",
   "execution_count": null,
   "metadata": {},
   "outputs": [],
   "source": [
    "font=13\n",
    "plt.figure(figsize=(8,8), facecolor='white')\n",
    "plt.rcParams.update({'font.size': font})\n",
    "plt.rc('xtick', labelsize=font)\n",
    "plt.rc('ytick', labelsize=font)\n",
    "\n",
    "ax=plt.gca()\n",
    "\n",
    "ax.plot(time_FRIDA, data1, color='', label='Data from FRIDA', linewidth=3)\n",
    "\n",
    "ax.set_xlabel('Year')\n",
    "ax.set_ylabel('some variable (unit)')\n",
    "ax.set_title('Title of the plot')\n",
    "ax.set_xlim(1980,2100)\n",
    "#ax.set_ylim(0,100) Adapt the y-axis range\n",
    "\n",
    "ax.grid()\n",
    "ax.legend()\n",
    "\n",
    "\n",
    "#plt.subplots_adjust(wspace=0.2)\n",
    "plt.tight_layout()\n",
    "#plt.show()\n",
    "plt.savefig('FRIDA_output.png')"
   ]
  }
 ],
 "metadata": {
  "kernelspec": {
   "display_name": "Python 3 (ipykernel)",
   "language": "python",
   "name": "python3"
  },
  "language_info": {
   "codemirror_mode": {
    "name": "ipython",
    "version": 3
   },
   "file_extension": ".py",
   "mimetype": "text/x-python",
   "name": "python",
   "nbconvert_exporter": "python",
   "pygments_lexer": "ipython3",
   "version": "3.8.3"
  }
 },
 "nbformat": 4,
 "nbformat_minor": 4
}
